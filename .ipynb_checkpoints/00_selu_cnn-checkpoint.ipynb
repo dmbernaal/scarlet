{
 "cells": [
  {
   "cell_type": "markdown",
   "metadata": {},
   "source": [
    "# SeLU CNN\n",
    "In this notebook we will introduce SeLU Activation to our ```basic_classifier```. \n",
    "\n",
    "This will include SeLU activation with SeLU Init."
   ]
  },
  {
   "cell_type": "markdown",
   "metadata": {},
   "source": [
    "### Loading Data\n",
    "We will experiment with ```imagenette``` data"
   ]
  },
  {
   "cell_type": "code",
   "execution_count": 1,
   "metadata": {},
   "outputs": [],
   "source": [
    "from basic_classifier import *"
   ]
  },
  {
   "cell_type": "code",
   "execution_count": 2,
   "metadata": {},
   "outputs": [],
   "source": [
    "from annealing import *"
   ]
  },
  {
   "cell_type": "code",
   "execution_count": 3,
   "metadata": {},
   "outputs": [],
   "source": [
    "torch.cuda.set_device(0)"
   ]
  },
  {
   "cell_type": "code",
   "execution_count": 4,
   "metadata": {},
   "outputs": [
    {
     "data": {
      "text/plain": [
       "[WindowsPath('C:/Users/dmber/.fastai/data/imagenette-160/models'),\n",
       " WindowsPath('C:/Users/dmber/.fastai/data/imagenette-160/train'),\n",
       " WindowsPath('C:/Users/dmber/.fastai/data/imagenette-160/val')]"
      ]
     },
     "execution_count": 4,
     "metadata": {},
     "output_type": "execute_result"
    }
   ],
   "source": [
    "path = untar_data(URLs.IMAGENETTE_160)\n",
    "path.ls()"
   ]
  },
  {
   "cell_type": "code",
   "execution_count": 5,
   "metadata": {},
   "outputs": [],
   "source": [
    "#export\n",
    "def get_imagenette_data(bs, size):\n",
    "    return (ImageList.from_folder(path)\n",
    "                     .split_by_folder(valid='val')\n",
    "                     .label_from_folder()\n",
    "                     .transform(([flip_lr(p=0.5)], []) ,size=size)\n",
    "                     .databunch(bs=bs, num_workers=1)\n",
    "                     .normalize(imagenet_stats))"
   ]
  },
  {
   "cell_type": "code",
   "execution_count": 6,
   "metadata": {},
   "outputs": [],
   "source": [
    "# getting our data\n",
    "bs = 64\n",
    "size = 128\n",
    "\n",
    "data = get_imagenette_data(bs, size)"
   ]
  },
  {
   "cell_type": "markdown",
   "metadata": {},
   "source": [
    "## Building our model"
   ]
  },
  {
   "cell_type": "code",
   "execution_count": 7,
   "metadata": {},
   "outputs": [],
   "source": [
    "#export\n",
    "class Selu(nn.Module):\n",
    "    def __init__(self):\n",
    "        super().__init__()\n",
    "        self.alpha = torch.tensor(1.6732632423543772848170429916717)\n",
    "        self.scale = torch.tensor(1.0507009873554804934193349852946)\n",
    "\n",
    "    def forward(self, x):\n",
    "        return self.scale * torch.where(x>=0.0, x, self.alpha * torch.exp(x) - self.alpha)"
   ]
  },
  {
   "cell_type": "code",
   "execution_count": 8,
   "metadata": {},
   "outputs": [],
   "source": [
    "# #export\n",
    "# def sconv_layer(ni, nf, ks=3, stride=2, **kwargs):\n",
    "#     \"\"\"\n",
    "#     Selu activation, no batch norm.\n",
    "#     \"\"\" \n",
    "#     bias = False # SeLU Paper\n",
    "#     act_fn = Selu()\n",
    "#     layers = [nn.Conv2d(ni, nf, ks, padding=ks//2, stride=stride, bias=bias, **kwargs), act_fn]\n",
    "    \n",
    "#     return nn.Sequential(*layers)"
   ]
  },
  {
   "cell_type": "code",
   "execution_count": 8,
   "metadata": {},
   "outputs": [],
   "source": [
    "#export\n",
    "def sconv_layer(ni, nf, ks=3, stride=2, **kwargs):\n",
    "    \"\"\"\n",
    "    Selu activation, no batch norm.\n",
    "    \"\"\" \n",
    "    bias = False # SeLU Paper\n",
    "    act_fn = Selu()\n",
    "#     layers = [nn.Conv2d(ni, nf, ks, padding=ks//2, stride=stride, bias=bias, **kwargs), act_fn, nn.BatchNorm2d(nf, eps=1e-5, momentum=0.1)]\n",
    "\n",
    "    layers = [nn.Conv2d(ni, nf, ks, padding=ks//2, stride=stride, bias=bias, **kwargs), nn.BatchNorm2d(nf, eps=1e-5, momentum=0.1), act_fn]\n",
    "    \n",
    "    return nn.Sequential(*layers)"
   ]
  },
  {
   "cell_type": "code",
   "execution_count": 9,
   "metadata": {},
   "outputs": [],
   "source": [
    "#export\n",
    "def get_scnn_layers(data, nfs, layer, head_type='cnn', **kwargs):\n",
    "    c_in = data.train_ds[0][0].shape[0]\n",
    "    c_out = data.c\n",
    "    \n",
    "    nfs = [c_in] + nfs\n",
    "    \n",
    "    \"\"\"\n",
    "    conv5x5, conv3x3\n",
    "    \n",
    "    We should experiment with various convs\n",
    "    \"\"\"\n",
    "    body = [layer(nfs[i], nfs[i+1], 5 if i==0 else 3, **kwargs) for i in range(len(nfs)-1)]\n",
    "    \n",
    "    # TO DO\n",
    "    # make head dynamic for experimentation: adding head as argument\n",
    "    \n",
    "    if head_type=='cnn':\n",
    "        head = [nn.AdaptiveAvgPool2d(1), Flatten(), nn.Linear(nfs[-1], c_out)]\n",
    "    \n",
    "    # experiment with head\n",
    "    elif head_type=='deep':\n",
    "        \n",
    "        ni = 2000\n",
    "        nf = 1000\n",
    "        \n",
    "        head = [\n",
    "            # normal cnn head + SeLU\n",
    "            nn.AdaptiveAvgPool2d(1), Flatten(), nn.Linear(nfs[-1], ni), Selu(), nn.BatchNorm1d(ni),\n",
    "            \n",
    "            # deep component\n",
    "            nn.Linear(ni, nf, bias=False), Selu(), nn.BatchNorm1d(nf),\n",
    "            \n",
    "            # output\n",
    "            nn.Linear(nf, c_out, bias=False)\n",
    "        ]\n",
    "        \n",
    "    return body + head"
   ]
  },
  {
   "cell_type": "code",
   "execution_count": 10,
   "metadata": {},
   "outputs": [],
   "source": [
    "#export\n",
    "def get_scnn_model(data, nfs, layer, head_type, **kwargs):\n",
    "    return nn.Sequential(*get_scnn_layers(data, nfs, layer, head_type, **kwargs))"
   ]
  },
  {
   "cell_type": "code",
   "execution_count": 11,
   "metadata": {},
   "outputs": [],
   "source": [
    "#export\n",
    "def selu_normal_(tensor, mode1='fan_in', mode2='fan_out'):\n",
    "    fan_in = nn.init._calculate_correct_fan(tensor, mode1)\n",
    "    fan_out = nn.init._calculate_correct_fan(tensor, mode2)\n",
    "    with torch.no_grad():\n",
    "        return torch.randn(fan_in, fan_out) / math.sqrt(1./fan_in)\n",
    "\n",
    "nn.init.selu_normal_ = selu_normal_ # adding modified init\n",
    "\n",
    "# MODIFIED: Will init weights: w = w / math.sqrt(1./fan_in)\n",
    "def init_scnn(m):\n",
    "    if isinstance(m, (nn.Conv2d, nn.Linear)): nn.init.selu_normal_(m.weight)\n",
    "    for l in m.children(): init_scnn(l)"
   ]
  },
  {
   "cell_type": "code",
   "execution_count": 12,
   "metadata": {},
   "outputs": [],
   "source": [
    "#export\n",
    "def create_scnn_model(data, nfs, layer=sconv_layer, head_type='cnn', **kwargs):\n",
    "    model = get_scnn_model(data, nfs, layer, head_type, **kwargs)\n",
    "    init_scnn(model)\n",
    "    return model"
   ]
  },
  {
   "cell_type": "markdown",
   "metadata": {},
   "source": [
    "# Deep Arch Baseline - no batch norm\n",
    "We will set a baseline with the following attributes:\n",
    "\n",
    "* Mixup\n",
    "* Annealling\n",
    "* Ranger Optimization"
   ]
  },
  {
   "cell_type": "code",
   "execution_count": 66,
   "metadata": {},
   "outputs": [],
   "source": [
    "# setting baseline\n",
    "nfs = [32, 64, 64*2]\n",
    "\n",
    "# hyper parameters\n",
    "alpha = 0.99\n",
    "mom = 0.95\n",
    "eps = 1e-6\n",
    "ann_start = 0.72\n",
    "mixup_alpha = 0.3\n",
    "\n",
    "# loss and opt\n",
    "optimizer = partial(Ranger, betas=(mom, alpha), eps=eps)\n",
    "loss_func = LabelSmoothingCrossEntropy()\n",
    "\n",
    "# model\n",
    "m = create_scnn_model(data, nfs, head_type='deep')\n",
    "\n",
    "# creating learner\n",
    "learn = (Learner(data,\n",
    "                 m,\n",
    "                 opt_func=optimizer,\n",
    "                 loss_func=loss_func,\n",
    "                 metrics=[accuracy, top_k_accuracy],\n",
    "                 )\n",
    "         .to_fp16()\n",
    "         .mixup(alpha=mixup_alpha))"
   ]
  },
  {
   "cell_type": "code",
   "execution_count": 68,
   "metadata": {},
   "outputs": [
    {
     "data": {
      "text/html": [],
      "text/plain": [
       "<IPython.core.display.HTML object>"
      ]
     },
     "metadata": {},
     "output_type": "display_data"
    },
    {
     "name": "stdout",
     "output_type": "stream",
     "text": [
      "set state called\n",
      "LR Finder is complete, type {learner_name}.recorder.plot() to see the graph.\n"
     ]
    },
    {
     "data": {
      "image/png": "[encoded data removed]",
      "text/plain": [
       "<Figure size 432x288 with 1 Axes>"
      ]
     },
     "metadata": {
      "needs_background": "light"
     },
     "output_type": "display_data"
    }
   ],
   "source": [
    "# finding optimal learning rate\n",
    "learn.lr_find()\n",
    "learn.recorder.plot()"
   ]
  },
  {
   "cell_type": "code",
   "execution_count": 70,
   "metadata": {},
   "outputs": [
    {
     "data": {
      "text/html": [
       "<table border=\"1\" class=\"dataframe\">\n",
       "  <thead>\n",
       "    <tr style=\"text-align: left;\">\n",
       "      <th>epoch</th>\n",
       "      <th>train_loss</th>\n",
       "      <th>valid_loss</th>\n",
       "      <th>accuracy</th>\n",
       "      <th>top_k_accuracy</th>\n",
       "      <th>time</th>\n",
       "    </tr>\n",
       "  </thead>\n",
       "  <tbody>\n",
       "    <tr>\n",
       "      <td>0</td>\n",
       "      <td>2.156809</td>\n",
       "      <td>2.021258</td>\n",
       "      <td>0.316000</td>\n",
       "      <td>0.806000</td>\n",
       "      <td>01:31</td>\n",
       "    </tr>\n",
       "    <tr>\n",
       "      <td>1</td>\n",
       "      <td>2.093218</td>\n",
       "      <td>1.956021</td>\n",
       "      <td>0.350000</td>\n",
       "      <td>0.846000</td>\n",
       "      <td>01:19</td>\n",
       "    </tr>\n",
       "    <tr>\n",
       "      <td>2</td>\n",
       "      <td>2.052531</td>\n",
       "      <td>1.885750</td>\n",
       "      <td>0.384000</td>\n",
       "      <td>0.872000</td>\n",
       "      <td>01:18</td>\n",
       "    </tr>\n",
       "    <tr>\n",
       "      <td>3</td>\n",
       "      <td>2.027290</td>\n",
       "      <td>1.848248</td>\n",
       "      <td>0.416000</td>\n",
       "      <td>0.874000</td>\n",
       "      <td>01:18</td>\n",
       "    </tr>\n",
       "    <tr>\n",
       "      <td>4</td>\n",
       "      <td>2.001179</td>\n",
       "      <td>1.826009</td>\n",
       "      <td>0.400000</td>\n",
       "      <td>0.884000</td>\n",
       "      <td>01:17</td>\n",
       "    </tr>\n",
       "  </tbody>\n",
       "</table>"
      ],
      "text/plain": [
       "<IPython.core.display.HTML object>"
      ]
     },
     "metadata": {},
     "output_type": "display_data"
    }
   ],
   "source": [
    "epochs = 5\n",
    "lr = 1e-4\n",
    "fit_with_annealing(learn, epochs, lr, ann_start)"
   ]
  },
  {
   "cell_type": "markdown",
   "metadata": {},
   "source": [
    "### Normal Arch Baseline - no batch norm\n",
    "We will set a baseline with the following attributes:\n",
    "\n",
    "* Mixup\n",
    "* Annealling\n",
    "* Ranger Optimization"
   ]
  },
  {
   "cell_type": "code",
   "execution_count": 75,
   "metadata": {},
   "outputs": [],
   "source": [
    "# setting baseline\n",
    "nfs = [32, 64, 64*2]\n",
    "\n",
    "# hyper parameters\n",
    "alpha = 0.99\n",
    "mom = 0.95\n",
    "eps = 1e-6\n",
    "ann_start = 0.72\n",
    "mixup_alpha = 0.3\n",
    "\n",
    "# loss and opt\n",
    "optimizer = partial(Ranger, betas=(mom, alpha), eps=eps)\n",
    "loss_func = LabelSmoothingCrossEntropy()\n",
    "\n",
    "# model\n",
    "m = create_scnn_model(data, nfs, head_type='cnn')\n",
    "\n",
    "# creating learner\n",
    "learn = (Learner(data,\n",
    "                 m,\n",
    "                 opt_func=optimizer,\n",
    "                 loss_func=loss_func,\n",
    "                 metrics=[accuracy, top_k_accuracy],\n",
    "                 )\n",
    "         .to_fp16()\n",
    "         .mixup(alpha=mixup_alpha))"
   ]
  },
  {
   "cell_type": "code",
   "execution_count": 73,
   "metadata": {},
   "outputs": [
    {
     "data": {
      "text/html": [],
      "text/plain": [
       "<IPython.core.display.HTML object>"
      ]
     },
     "metadata": {},
     "output_type": "display_data"
    },
    {
     "name": "stdout",
     "output_type": "stream",
     "text": [
      "set state called\n",
      "LR Finder is complete, type {learner_name}.recorder.plot() to see the graph.\n"
     ]
    },
    {
     "data": {
      "image/png": "[encoded data removed]",
      "text/plain": [
       "<Figure size 432x288 with 1 Axes>"
      ]
     },
     "metadata": {
      "needs_background": "light"
     },
     "output_type": "display_data"
    }
   ],
   "source": [
    "learn.lr_find(); learn.recorder.plot()"
   ]
  },
  {
   "cell_type": "code",
   "execution_count": 76,
   "metadata": {},
   "outputs": [
    {
     "data": {
      "text/html": [
       "<table border=\"1\" class=\"dataframe\">\n",
       "  <thead>\n",
       "    <tr style=\"text-align: left;\">\n",
       "      <th>epoch</th>\n",
       "      <th>train_loss</th>\n",
       "      <th>valid_loss</th>\n",
       "      <th>accuracy</th>\n",
       "      <th>top_k_accuracy</th>\n",
       "      <th>time</th>\n",
       "    </tr>\n",
       "  </thead>\n",
       "  <tbody>\n",
       "    <tr>\n",
       "      <td>0</td>\n",
       "      <td>2.220666</td>\n",
       "      <td>2.113153</td>\n",
       "      <td>0.258000</td>\n",
       "      <td>0.766000</td>\n",
       "      <td>01:18</td>\n",
       "    </tr>\n",
       "    <tr>\n",
       "      <td>1</td>\n",
       "      <td>2.160053</td>\n",
       "      <td>2.049036</td>\n",
       "      <td>0.296000</td>\n",
       "      <td>0.772000</td>\n",
       "      <td>01:19</td>\n",
       "    </tr>\n",
       "    <tr>\n",
       "      <td>2</td>\n",
       "      <td>2.142473</td>\n",
       "      <td>2.026993</td>\n",
       "      <td>0.310000</td>\n",
       "      <td>0.798000</td>\n",
       "      <td>01:21</td>\n",
       "    </tr>\n",
       "    <tr>\n",
       "      <td>3</td>\n",
       "      <td>2.133373</td>\n",
       "      <td>2.013549</td>\n",
       "      <td>0.312000</td>\n",
       "      <td>0.792000</td>\n",
       "      <td>01:19</td>\n",
       "    </tr>\n",
       "    <tr>\n",
       "      <td>4</td>\n",
       "      <td>2.127554</td>\n",
       "      <td>2.015858</td>\n",
       "      <td>0.332000</td>\n",
       "      <td>0.794000</td>\n",
       "      <td>01:17</td>\n",
       "    </tr>\n",
       "  </tbody>\n",
       "</table>"
      ],
      "text/plain": [
       "<IPython.core.display.HTML object>"
      ]
     },
     "metadata": {},
     "output_type": "display_data"
    }
   ],
   "source": [
    "lr = 1e-4\n",
    "fit_with_annealing(learn, epochs, lr, ann_start)"
   ]
  },
  {
   "cell_type": "markdown",
   "metadata": {},
   "source": [
    "### Deep Arch Experimentation 1 - no batch norm"
   ]
  },
  {
   "cell_type": "code",
   "execution_count": 79,
   "metadata": {},
   "outputs": [],
   "source": [
    "# setting baseline\n",
    "nfs = [32, 64, 64*2, 64*3, 64*4, 64*5, 64*4, 64*3, 64*2]\n",
    "\n",
    "# hyper parameters\n",
    "alpha = 0.99\n",
    "mom = 0.95\n",
    "eps = 1e-6\n",
    "ann_start = 0.72\n",
    "mixup_alpha = 0.3\n",
    "\n",
    "# loss and opt\n",
    "optimizer = partial(Ranger, betas=(mom, alpha), eps=eps)\n",
    "loss_func = LabelSmoothingCrossEntropy()\n",
    "\n",
    "# model\n",
    "m = create_scnn_model(data, nfs, head_type='deep')\n",
    "\n",
    "# creating learner\n",
    "learn = (Learner(data,\n",
    "                 m,\n",
    "                 opt_func=optimizer,\n",
    "                 loss_func=loss_func,\n",
    "                 metrics=[accuracy, top_k_accuracy],\n",
    "                 )\n",
    "         .to_fp16()\n",
    "         .mixup(alpha=mixup_alpha))"
   ]
  },
  {
   "cell_type": "code",
   "execution_count": 82,
   "metadata": {},
   "outputs": [
    {
     "data": {
      "text/html": [
       "<table border=\"1\" class=\"dataframe\">\n",
       "  <thead>\n",
       "    <tr style=\"text-align: left;\">\n",
       "      <th>epoch</th>\n",
       "      <th>train_loss</th>\n",
       "      <th>valid_loss</th>\n",
       "      <th>accuracy</th>\n",
       "      <th>top_k_accuracy</th>\n",
       "      <th>time</th>\n",
       "    </tr>\n",
       "  </thead>\n",
       "  <tbody>\n",
       "    <tr>\n",
       "      <td>0</td>\n",
       "      <td>2.115029</td>\n",
       "      <td>1.933263</td>\n",
       "      <td>0.352000</td>\n",
       "      <td>0.816000</td>\n",
       "      <td>01:15</td>\n",
       "    </tr>\n",
       "    <tr>\n",
       "      <td>1</td>\n",
       "      <td>2.012952</td>\n",
       "      <td>1.827616</td>\n",
       "      <td>0.390000</td>\n",
       "      <td>0.866000</td>\n",
       "      <td>01:18</td>\n",
       "    </tr>\n",
       "    <tr>\n",
       "      <td>2</td>\n",
       "      <td>1.936005</td>\n",
       "      <td>1.713143</td>\n",
       "      <td>0.446000</td>\n",
       "      <td>0.880000</td>\n",
       "      <td>01:18</td>\n",
       "    </tr>\n",
       "    <tr>\n",
       "      <td>3</td>\n",
       "      <td>1.889801</td>\n",
       "      <td>1.660157</td>\n",
       "      <td>0.490000</td>\n",
       "      <td>0.890000</td>\n",
       "      <td>01:19</td>\n",
       "    </tr>\n",
       "    <tr>\n",
       "      <td>4</td>\n",
       "      <td>1.836730</td>\n",
       "      <td>1.628511</td>\n",
       "      <td>0.520000</td>\n",
       "      <td>0.918000</td>\n",
       "      <td>01:17</td>\n",
       "    </tr>\n",
       "  </tbody>\n",
       "</table>"
      ],
      "text/plain": [
       "<IPython.core.display.HTML object>"
      ]
     },
     "metadata": {},
     "output_type": "display_data"
    }
   ],
   "source": [
    "lr = 1e-4\n",
    "fit_with_annealing(learn, epochs, lr, ann_start)"
   ]
  },
  {
   "cell_type": "markdown",
   "metadata": {},
   "source": [
    "# Experimenting with BatchNorm"
   ]
  },
  {
   "cell_type": "code",
   "execution_count": 101,
   "metadata": {},
   "outputs": [],
   "source": [
    "#export\n",
    "def sconv_layer(ni, nf, ks=3, stride=2, **kwargs):\n",
    "    \"\"\"\n",
    "    Selu activation, no batch norm.\n",
    "    \"\"\" \n",
    "    bias = False # SeLU Paper\n",
    "    act_fn = Selu()\n",
    "    layers = [nn.Conv2d(ni, nf, ks, padding=ks//2, stride=stride, bias=bias, **kwargs), act_fn, nn.BatchNorm2d(nf, eps=1e-5, momentum=0.1)]\n",
    "    \n",
    "    return nn.Sequential(*layers)"
   ]
  },
  {
   "cell_type": "code",
   "execution_count": 28,
   "metadata": {},
   "outputs": [],
   "source": [
    "# setting baseline\n",
    "nfs = [32, 64, 64*2, 64*3, 64*4, 64*5, 64*4, 64*3, 64*2]\n",
    "\n",
    "# hyper parameters\n",
    "alpha = 0.99\n",
    "mom = 0.95\n",
    "eps = 1e-6\n",
    "ann_start = 0.72\n",
    "mixup_alpha = 0.3\n",
    "\n",
    "# loss and opt\n",
    "optimizer = partial(Ranger, betas=(mom, alpha), eps=eps)\n",
    "loss_func = LabelSmoothingCrossEntropy()\n",
    "\n",
    "# model\n",
    "m = create_scnn_model(data, nfs, head_type='deep')\n",
    "\n",
    "# creating learner\n",
    "learn = (Learner(data,\n",
    "                 m,\n",
    "                 opt_func=optimizer,\n",
    "                 loss_func=loss_func,\n",
    "                 metrics=[accuracy, top_k_accuracy],\n",
    "                 )\n",
    "         .to_fp16()\n",
    "         .mixup(alpha=mixup_alpha))"
   ]
  },
  {
   "cell_type": "code",
   "execution_count": 105,
   "metadata": {},
   "outputs": [
    {
     "data": {
      "text/html": [
       "<table border=\"1\" class=\"dataframe\">\n",
       "  <thead>\n",
       "    <tr style=\"text-align: left;\">\n",
       "      <th>epoch</th>\n",
       "      <th>train_loss</th>\n",
       "      <th>valid_loss</th>\n",
       "      <th>accuracy</th>\n",
       "      <th>top_k_accuracy</th>\n",
       "      <th>time</th>\n",
       "    </tr>\n",
       "  </thead>\n",
       "  <tbody>\n",
       "    <tr>\n",
       "      <td>0</td>\n",
       "      <td>1.987935</td>\n",
       "      <td>1.788358</td>\n",
       "      <td>0.414000</td>\n",
       "      <td>0.870000</td>\n",
       "      <td>01:20</td>\n",
       "    </tr>\n",
       "    <tr>\n",
       "      <td>1</td>\n",
       "      <td>1.917656</td>\n",
       "      <td>1.677405</td>\n",
       "      <td>0.482000</td>\n",
       "      <td>0.900000</td>\n",
       "      <td>01:18</td>\n",
       "    </tr>\n",
       "    <tr>\n",
       "      <td>2</td>\n",
       "      <td>1.819492</td>\n",
       "      <td>1.633813</td>\n",
       "      <td>0.502000</td>\n",
       "      <td>0.900000</td>\n",
       "      <td>01:20</td>\n",
       "    </tr>\n",
       "    <tr>\n",
       "      <td>3</td>\n",
       "      <td>1.746899</td>\n",
       "      <td>1.554332</td>\n",
       "      <td>0.526000</td>\n",
       "      <td>0.924000</td>\n",
       "      <td>01:18</td>\n",
       "    </tr>\n",
       "    <tr>\n",
       "      <td>4</td>\n",
       "      <td>1.642165</td>\n",
       "      <td>1.531367</td>\n",
       "      <td>0.562000</td>\n",
       "      <td>0.908000</td>\n",
       "      <td>01:17</td>\n",
       "    </tr>\n",
       "  </tbody>\n",
       "</table>"
      ],
      "text/plain": [
       "<IPython.core.display.HTML object>"
      ]
     },
     "metadata": {},
     "output_type": "display_data"
    }
   ],
   "source": [
    "\"\"\"\n",
    "head not batchnorm\n",
    "\"\"\"\n",
    "lr = 1e-4\n",
    "fit_with_annealing(learn, epochs, lr, ann_start)"
   ]
  },
  {
   "cell_type": "code",
   "execution_count": 30,
   "metadata": {},
   "outputs": [
    {
     "data": {
      "text/html": [
       "<table border=\"1\" class=\"dataframe\">\n",
       "  <thead>\n",
       "    <tr style=\"text-align: left;\">\n",
       "      <th>epoch</th>\n",
       "      <th>train_loss</th>\n",
       "      <th>valid_loss</th>\n",
       "      <th>accuracy</th>\n",
       "      <th>top_k_accuracy</th>\n",
       "      <th>time</th>\n",
       "    </tr>\n",
       "  </thead>\n",
       "  <tbody>\n",
       "    <tr>\n",
       "      <td>0</td>\n",
       "      <td>2.031961</td>\n",
       "      <td>1.798051</td>\n",
       "      <td>0.446000</td>\n",
       "      <td>0.848000</td>\n",
       "      <td>01:14</td>\n",
       "    </tr>\n",
       "    <tr>\n",
       "      <td>1</td>\n",
       "      <td>1.928922</td>\n",
       "      <td>1.694789</td>\n",
       "      <td>0.476000</td>\n",
       "      <td>0.882000</td>\n",
       "      <td>01:18</td>\n",
       "    </tr>\n",
       "    <tr>\n",
       "      <td>2</td>\n",
       "      <td>1.870616</td>\n",
       "      <td>1.664085</td>\n",
       "      <td>0.486000</td>\n",
       "      <td>0.886000</td>\n",
       "      <td>01:18</td>\n",
       "    </tr>\n",
       "    <tr>\n",
       "      <td>3</td>\n",
       "      <td>1.773894</td>\n",
       "      <td>1.611930</td>\n",
       "      <td>0.500000</td>\n",
       "      <td>0.900000</td>\n",
       "      <td>01:17</td>\n",
       "    </tr>\n",
       "    <tr>\n",
       "      <td>4</td>\n",
       "      <td>1.659448</td>\n",
       "      <td>1.549544</td>\n",
       "      <td>0.558000</td>\n",
       "      <td>0.900000</td>\n",
       "      <td>01:17</td>\n",
       "    </tr>\n",
       "  </tbody>\n",
       "</table>"
      ],
      "text/plain": [
       "<IPython.core.display.HTML object>"
      ]
     },
     "metadata": {},
     "output_type": "display_data"
    }
   ],
   "source": [
    "\"\"\"\n",
    "head and batchnorm\n",
    "\"\"\"\n",
    "lr = 1e-4\n",
    "fit_with_annealing(learn, epochs, lr, ann_start)"
   ]
  },
  {
   "cell_type": "code",
   "execution_count": 31,
   "metadata": {},
   "outputs": [],
   "source": [
    "# setting baseline\n",
    "nfs = [32, 64, 64*2, 64*3, 64*4, 64*5, 64*4, 64*3, 64*2]\n",
    "\n",
    "# hyper parameters\n",
    "alpha = 0.99\n",
    "mom = 0.95\n",
    "eps = 1e-6\n",
    "ann_start = 0.72\n",
    "mixup_alpha = 0.3\n",
    "\n",
    "# loss and opt\n",
    "optimizer = partial(Ranger, betas=(mom, alpha), eps=eps)\n",
    "loss_func = LabelSmoothingCrossEntropy()\n",
    "\n",
    "# model\n",
    "m = create_scnn_model(data, nfs, head_type='cnn')\n",
    "\n",
    "# creating learner\n",
    "learn = (Learner(data,\n",
    "                 m,\n",
    "                 opt_func=optimizer,\n",
    "                 loss_func=loss_func,\n",
    "                 metrics=[accuracy, top_k_accuracy],\n",
    "                 )\n",
    "         .to_fp16()\n",
    "         .mixup(alpha=mixup_alpha))"
   ]
  },
  {
   "cell_type": "code",
   "execution_count": 32,
   "metadata": {},
   "outputs": [
    {
     "data": {
      "text/html": [
       "<table border=\"1\" class=\"dataframe\">\n",
       "  <thead>\n",
       "    <tr style=\"text-align: left;\">\n",
       "      <th>epoch</th>\n",
       "      <th>train_loss</th>\n",
       "      <th>valid_loss</th>\n",
       "      <th>accuracy</th>\n",
       "      <th>top_k_accuracy</th>\n",
       "      <th>time</th>\n",
       "    </tr>\n",
       "  </thead>\n",
       "  <tbody>\n",
       "    <tr>\n",
       "      <td>0</td>\n",
       "      <td>1.997979</td>\n",
       "      <td>1.758295</td>\n",
       "      <td>0.480000</td>\n",
       "      <td>0.840000</td>\n",
       "      <td>01:16</td>\n",
       "    </tr>\n",
       "    <tr>\n",
       "      <td>1</td>\n",
       "      <td>1.896083</td>\n",
       "      <td>1.695547</td>\n",
       "      <td>0.486000</td>\n",
       "      <td>0.870000</td>\n",
       "      <td>01:17</td>\n",
       "    </tr>\n",
       "    <tr>\n",
       "      <td>2</td>\n",
       "      <td>1.823195</td>\n",
       "      <td>1.633800</td>\n",
       "      <td>0.516000</td>\n",
       "      <td>0.892000</td>\n",
       "      <td>01:17</td>\n",
       "    </tr>\n",
       "    <tr>\n",
       "      <td>3</td>\n",
       "      <td>1.744785</td>\n",
       "      <td>1.563321</td>\n",
       "      <td>0.558000</td>\n",
       "      <td>0.906000</td>\n",
       "      <td>01:19</td>\n",
       "    </tr>\n",
       "    <tr>\n",
       "      <td>4</td>\n",
       "      <td>1.656136</td>\n",
       "      <td>1.538884</td>\n",
       "      <td>0.580000</td>\n",
       "      <td>0.904000</td>\n",
       "      <td>01:22</td>\n",
       "    </tr>\n",
       "  </tbody>\n",
       "</table>"
      ],
      "text/plain": [
       "<IPython.core.display.HTML object>"
      ]
     },
     "metadata": {},
     "output_type": "display_data"
    }
   ],
   "source": [
    "epochs = 5\n",
    "lr = 1e-4\n",
    "fit_with_annealing(learn, epochs, lr, ann_start)"
   ]
  },
  {
   "cell_type": "markdown",
   "metadata": {},
   "source": [
    "# BN Experiment: BN + Act_Fn\n",
    "We will experiment with changing the order or BN + Activation Function"
   ]
  },
  {
   "cell_type": "code",
   "execution_count": 13,
   "metadata": {},
   "outputs": [],
   "source": [
    "# setting baseline\n",
    "nfs = [32, 64, 64*2, 64*3, 64*4, 64*5, 64*4, 64*3, 64*2]\n",
    "\n",
    "# hyper parameters\n",
    "alpha = 0.99\n",
    "mom = 0.95\n",
    "eps = 1e-6\n",
    "ann_start = 0.72\n",
    "mixup_alpha = 0.3\n",
    "\n",
    "# loss and opt\n",
    "optimizer = partial(Ranger, betas=(mom, alpha), eps=eps)\n",
    "loss_func = LabelSmoothingCrossEntropy()\n",
    "\n",
    "# model\n",
    "m = create_scnn_model(data, nfs, head_type='cnn')\n",
    "\n",
    "# creating learner\n",
    "learn = (Learner(data,\n",
    "                 m,\n",
    "                 opt_func=optimizer,\n",
    "                 loss_func=loss_func,\n",
    "                 metrics=[accuracy, top_k_accuracy],\n",
    "                 )\n",
    "         .to_fp16()\n",
    "         .mixup(alpha=mixup_alpha))"
   ]
  },
  {
   "cell_type": "code",
   "execution_count": 15,
   "metadata": {},
   "outputs": [
    {
     "data": {
      "text/html": [
       "<table border=\"1\" class=\"dataframe\">\n",
       "  <thead>\n",
       "    <tr style=\"text-align: left;\">\n",
       "      <th>epoch</th>\n",
       "      <th>train_loss</th>\n",
       "      <th>valid_loss</th>\n",
       "      <th>accuracy</th>\n",
       "      <th>top_k_accuracy</th>\n",
       "      <th>time</th>\n",
       "    </tr>\n",
       "  </thead>\n",
       "  <tbody>\n",
       "    <tr>\n",
       "      <td>0</td>\n",
       "      <td>1.951369</td>\n",
       "      <td>1.691974</td>\n",
       "      <td>0.500000</td>\n",
       "      <td>0.890000</td>\n",
       "      <td>01:22</td>\n",
       "    </tr>\n",
       "    <tr>\n",
       "      <td>1</td>\n",
       "      <td>1.809729</td>\n",
       "      <td>1.601845</td>\n",
       "      <td>0.518000</td>\n",
       "      <td>0.902000</td>\n",
       "      <td>01:18</td>\n",
       "    </tr>\n",
       "    <tr>\n",
       "      <td>2</td>\n",
       "      <td>1.722263</td>\n",
       "      <td>1.509318</td>\n",
       "      <td>0.578000</td>\n",
       "      <td>0.918000</td>\n",
       "      <td>01:19</td>\n",
       "    </tr>\n",
       "    <tr>\n",
       "      <td>3</td>\n",
       "      <td>1.634591</td>\n",
       "      <td>1.437908</td>\n",
       "      <td>0.592000</td>\n",
       "      <td>0.930000</td>\n",
       "      <td>01:19</td>\n",
       "    </tr>\n",
       "    <tr>\n",
       "      <td>4</td>\n",
       "      <td>1.509822</td>\n",
       "      <td>1.400944</td>\n",
       "      <td>0.626000</td>\n",
       "      <td>0.928000</td>\n",
       "      <td>01:19</td>\n",
       "    </tr>\n",
       "  </tbody>\n",
       "</table>"
      ],
      "text/plain": [
       "<IPython.core.display.HTML object>"
      ]
     },
     "metadata": {},
     "output_type": "display_data"
    }
   ],
   "source": [
    "epochs = 5\n",
    "lr = 1e-4\n",
    "fit_with_annealing(learn, epochs, lr, ann_start)"
   ]
  },
  {
   "cell_type": "markdown",
   "metadata": {},
   "source": [
    "### 34 Layer Complexity\n",
    "Let's further experiment with added complexity: Width + Depth"
   ]
  },
  {
   "cell_type": "code",
   "execution_count": 13,
   "metadata": {},
   "outputs": [],
   "source": [
    "# model complexity\n",
    "nfs = [32, 64, 64*2, 64*3, 64*4, 64*5, 64*6, 64*7, 64*8, 64*9, 64*10, 64*9, 64*8, 64*7, 64*6, 64*5, 64*4, 64*3, 64*2]\n",
    "\n",
    "# hyper parameters\n",
    "alpha = 0.99\n",
    "mom = 0.95\n",
    "eps = 1e-6\n",
    "ann_start = 0.72\n",
    "mixup_alpha = 0.3\n",
    "\n",
    "# loss and opt\n",
    "optimizer = partial(Ranger, betas=(mom, alpha), eps=eps)\n",
    "loss_func = LabelSmoothingCrossEntropy()\n",
    "\n",
    "# model\n",
    "m = create_scnn_model(data, nfs, head_type='cnn')\n",
    "\n",
    "# creating learner\n",
    "learn = (Learner(data,\n",
    "                 m,\n",
    "                 opt_func=optimizer,\n",
    "                 loss_func=loss_func,\n",
    "                 metrics=[accuracy, top_k_accuracy],\n",
    "                 )\n",
    "         .to_fp16()\n",
    "         .mixup(alpha=mixup_alpha))"
   ]
  },
  {
   "cell_type": "code",
   "execution_count": 15,
   "metadata": {},
   "outputs": [
    {
     "data": {
      "text/html": [
       "<table border=\"1\" class=\"dataframe\">\n",
       "  <thead>\n",
       "    <tr style=\"text-align: left;\">\n",
       "      <th>epoch</th>\n",
       "      <th>train_loss</th>\n",
       "      <th>valid_loss</th>\n",
       "      <th>accuracy</th>\n",
       "      <th>top_k_accuracy</th>\n",
       "      <th>time</th>\n",
       "    </tr>\n",
       "  </thead>\n",
       "  <tbody>\n",
       "    <tr>\n",
       "      <td>0</td>\n",
       "      <td>1.994988</td>\n",
       "      <td>1.759661</td>\n",
       "      <td>0.432000</td>\n",
       "      <td>0.876000</td>\n",
       "      <td>01:16</td>\n",
       "    </tr>\n",
       "    <tr>\n",
       "      <td>1</td>\n",
       "      <td>1.866127</td>\n",
       "      <td>1.621417</td>\n",
       "      <td>0.514000</td>\n",
       "      <td>0.896000</td>\n",
       "      <td>01:22</td>\n",
       "    </tr>\n",
       "    <tr>\n",
       "      <td>2</td>\n",
       "      <td>1.796908</td>\n",
       "      <td>1.566855</td>\n",
       "      <td>0.536000</td>\n",
       "      <td>0.912000</td>\n",
       "      <td>01:22</td>\n",
       "    </tr>\n",
       "    <tr>\n",
       "      <td>3</td>\n",
       "      <td>1.694881</td>\n",
       "      <td>1.475151</td>\n",
       "      <td>0.580000</td>\n",
       "      <td>0.914000</td>\n",
       "      <td>01:18</td>\n",
       "    </tr>\n",
       "    <tr>\n",
       "      <td>4</td>\n",
       "      <td>1.574753</td>\n",
       "      <td>1.395009</td>\n",
       "      <td>0.620000</td>\n",
       "      <td>0.930000</td>\n",
       "      <td>01:19</td>\n",
       "    </tr>\n",
       "  </tbody>\n",
       "</table>"
      ],
      "text/plain": [
       "<IPython.core.display.HTML object>"
      ]
     },
     "metadata": {},
     "output_type": "display_data"
    }
   ],
   "source": [
    "lr = 1e-4\n",
    "epochs = 5\n",
    "fit_with_annealing(learn, epochs, lr, ann_start)"
   ]
  },
  {
   "cell_type": "code",
   "execution_count": 17,
   "metadata": {},
   "outputs": [],
   "source": [
    "# model complexity\n",
    "nfs = [32, 64, 64*2, 64*3, 64*4, 64*5, 64*6, 64*7, 64*8, 64*9, 64*10]\n",
    "\n",
    "# hyper parameters\n",
    "alpha = 0.99\n",
    "mom = 0.95\n",
    "eps = 1e-6\n",
    "ann_start = 0.72\n",
    "mixup_alpha = 0.3\n",
    "\n",
    "# loss and opt\n",
    "optimizer = partial(Ranger, betas=(mom, alpha), eps=eps)\n",
    "loss_func = LabelSmoothingCrossEntropy()\n",
    "\n",
    "# model\n",
    "m = create_scnn_model(data, nfs, head_type='cnn')\n",
    "\n",
    "# creating learner\n",
    "learn = (Learner(data,\n",
    "                 m,\n",
    "                 opt_func=optimizer,\n",
    "                 loss_func=loss_func,\n",
    "                 metrics=[accuracy, top_k_accuracy],\n",
    "                 )\n",
    "         .to_fp16()\n",
    "         .mixup(alpha=mixup_alpha))"
   ]
  },
  {
   "cell_type": "code",
   "execution_count": 18,
   "metadata": {},
   "outputs": [
    {
     "data": {
      "text/html": [
       "<table border=\"1\" class=\"dataframe\">\n",
       "  <thead>\n",
       "    <tr style=\"text-align: left;\">\n",
       "      <th>epoch</th>\n",
       "      <th>train_loss</th>\n",
       "      <th>valid_loss</th>\n",
       "      <th>accuracy</th>\n",
       "      <th>top_k_accuracy</th>\n",
       "      <th>time</th>\n",
       "    </tr>\n",
       "  </thead>\n",
       "  <tbody>\n",
       "    <tr>\n",
       "      <td>0</td>\n",
       "      <td>1.975810</td>\n",
       "      <td>1.719128</td>\n",
       "      <td>0.466000</td>\n",
       "      <td>0.870000</td>\n",
       "      <td>01:14</td>\n",
       "    </tr>\n",
       "    <tr>\n",
       "      <td>1</td>\n",
       "      <td>1.845502</td>\n",
       "      <td>1.591375</td>\n",
       "      <td>0.526000</td>\n",
       "      <td>0.928000</td>\n",
       "      <td>01:20</td>\n",
       "    </tr>\n",
       "    <tr>\n",
       "      <td>2</td>\n",
       "      <td>1.723210</td>\n",
       "      <td>1.543927</td>\n",
       "      <td>0.546000</td>\n",
       "      <td>0.900000</td>\n",
       "      <td>01:18</td>\n",
       "    </tr>\n",
       "    <tr>\n",
       "      <td>3</td>\n",
       "      <td>1.626343</td>\n",
       "      <td>1.470983</td>\n",
       "      <td>0.578000</td>\n",
       "      <td>0.946000</td>\n",
       "      <td>01:19</td>\n",
       "    </tr>\n",
       "    <tr>\n",
       "      <td>4</td>\n",
       "      <td>1.512490</td>\n",
       "      <td>1.367718</td>\n",
       "      <td>0.644000</td>\n",
       "      <td>0.950000</td>\n",
       "      <td>01:19</td>\n",
       "    </tr>\n",
       "  </tbody>\n",
       "</table>"
      ],
      "text/plain": [
       "<IPython.core.display.HTML object>"
      ]
     },
     "metadata": {},
     "output_type": "display_data"
    }
   ],
   "source": [
    "fit_with_annealing(learn, epochs, lr, ann_start)"
   ]
  },
  {
   "cell_type": "markdown",
   "metadata": {},
   "source": [
    "# Pooling Experiments\n",
    "read: \n",
    "* https://machinelearningmastery.com/pooling-layers-for-convolutional-neural-networks/\n",
    "* https://arxiv.org/pdf/1710.10928.pdf\n",
    "* https://www.mitpressjournals.org/doi/full/10.1162/neco_a_01195\n",
    "\n",
    "### Further Experimentation:\n",
    "Try and converge with added pooling layers. Then focus on model complexity (read papers above. The helper function between will serve as our dynamic model creator: changes width and depth of the model with a beta coefficient"
   ]
  },
  {
   "cell_type": "code",
   "execution_count": 38,
   "metadata": {},
   "outputs": [],
   "source": [
    "#export\n",
    "def get_nfs(ni=32, beta=0., depth=10):\n",
    "    nfs = []\n",
    "    for i in range(depth): \n",
    "        if i==0: nfs.append(ni)\n",
    "        else: \n",
    "            nfs.append(int(ni * ((beta+1)*i+1)))\n",
    "    return nfs"
   ]
  },
  {
   "cell_type": "code",
   "execution_count": null,
   "metadata": {},
   "outputs": [],
   "source": []
  },
  {
   "cell_type": "code",
   "execution_count": null,
   "metadata": {},
   "outputs": [],
   "source": []
  },
  {
   "cell_type": "code",
   "execution_count": null,
   "metadata": {},
   "outputs": [],
   "source": []
  },
  {
   "cell_type": "code",
   "execution_count": null,
   "metadata": {},
   "outputs": [],
   "source": []
  },
  {
   "cell_type": "code",
   "execution_count": null,
   "metadata": {},
   "outputs": [],
   "source": []
  },
  {
   "cell_type": "code",
   "execution_count": null,
   "metadata": {},
   "outputs": [],
   "source": []
  },
  {
   "cell_type": "code",
   "execution_count": null,
   "metadata": {},
   "outputs": [],
   "source": []
  },
  {
   "cell_type": "code",
   "execution_count": null,
   "metadata": {},
   "outputs": [],
   "source": []
  },
  {
   "cell_type": "code",
   "execution_count": null,
   "metadata": {},
   "outputs": [],
   "source": []
  },
  {
   "cell_type": "code",
   "execution_count": null,
   "metadata": {},
   "outputs": [],
   "source": []
  },
  {
   "cell_type": "code",
   "execution_count": null,
   "metadata": {},
   "outputs": [],
   "source": []
  },
  {
   "cell_type": "code",
   "execution_count": null,
   "metadata": {},
   "outputs": [],
   "source": []
  },
  {
   "cell_type": "code",
   "execution_count": null,
   "metadata": {},
   "outputs": [],
   "source": []
  },
  {
   "cell_type": "code",
   "execution_count": null,
   "metadata": {},
   "outputs": [],
   "source": []
  },
  {
   "cell_type": "code",
   "execution_count": null,
   "metadata": {},
   "outputs": [],
   "source": []
  },
  {
   "cell_type": "code",
   "execution_count": null,
   "metadata": {},
   "outputs": [],
   "source": []
  },
  {
   "cell_type": "code",
   "execution_count": null,
   "metadata": {},
   "outputs": [],
   "source": []
  }
 ],
 "metadata": {
  "kernelspec": {
   "display_name": "Python 3",
   "language": "python",
   "name": "python3"
  },
  "language_info": {
   "codemirror_mode": {
    "name": "ipython",
    "version": 3
   },
   "file_extension": ".py",
   "mimetype": "text/x-python",
   "name": "python",
   "nbconvert_exporter": "python",
   "pygments_lexer": "ipython3",
   "version": "3.7.3"
  }
 },
 "nbformat": 4,
 "nbformat_minor": 2
}
