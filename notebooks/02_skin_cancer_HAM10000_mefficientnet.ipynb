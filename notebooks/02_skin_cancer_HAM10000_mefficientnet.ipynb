{
 "cells": [
  {
   "cell_type": "markdown",
   "metadata": {},
   "source": [
    "# HAM10000 MEfficientNet\n",
    "In this notebook we will experiment with pre-trained efficienet models. We will be using Mish Activation with Ranger Optimization. "
   ]
  },
  {
   "cell_type": "code",
   "execution_count": 1,
   "metadata": {},
   "outputs": [],
   "source": [
    "from fastai.script import *\n",
    "from fastai.vision import *\n",
    "from torchvision.models import *\n",
    "from mxresnet import *\n",
    "\n",
    "from ranger import *\n",
    "from annealing import *\n",
    "\n",
    "from MEfficientNet.mefficientnet import EfficientNet as MEfficientNet"
   ]
  },
  {
   "cell_type": "code",
   "execution_count": 2,
   "metadata": {},
   "outputs": [],
   "source": [
    "torch.cuda.set_device(0)"
   ]
  },
  {
   "cell_type": "code",
   "execution_count": 3,
   "metadata": {},
   "outputs": [
    {
     "data": {
      "text/plain": [
       "[WindowsPath('data/ham10000/HAM10000_metadata.csv'),\n",
       " WindowsPath('data/ham10000/hmnist_28_28_L.csv'),\n",
       " WindowsPath('data/ham10000/hmnist_28_28_RGB.csv'),\n",
       " WindowsPath('data/ham10000/hmnist_8_8_L.csv'),\n",
       " WindowsPath('data/ham10000/hmnist_8_8_RGB.csv'),\n",
       " WindowsPath('data/ham10000/images'),\n",
       " WindowsPath('data/ham10000/labels.csv'),\n",
       " WindowsPath('data/ham10000/models')]"
      ]
     },
     "execution_count": 3,
     "metadata": {},
     "output_type": "execute_result"
    }
   ],
   "source": [
    "path = './data/ham10000'\n",
    "path = Path(path)\n",
    "path.ls()"
   ]
  },
  {
   "cell_type": "code",
   "execution_count": 4,
   "metadata": {},
   "outputs": [],
   "source": [
    "bs = 12\n",
    "\n",
    "data = (ImageList.from_csv(path, 'labels.csv', folder='images', suffix='.jpg')\n",
    "        # Splitting by 10%\n",
    "        .split_by_rand_pct(.10)\n",
    "        # Labeling with col1 = 'lesion'\n",
    "        .label_from_df(cols=1)\n",
    "        # Will only use size transformation\n",
    "        .transform(size=224//2)\n",
    "        # Turning into our databunch object:\n",
    "        .databunch(bs=bs, num_workers=1).normalize(imagenet_stats))      "
   ]
  },
  {
   "cell_type": "code",
   "execution_count": 5,
   "metadata": {},
   "outputs": [],
   "source": [
    "# efficientnets\n",
    "effnet_b0 = 'efficientnet-b0'\n",
    "effnet_b1 = 'efficientnet-b1'\n",
    "effnet_b2 = 'efficientnet-b2'\n",
    "effnet_b3 = 'efficientnet-b3'\n",
    "effnet_b4 = 'efficientnet-b4'\n",
    "effnet_b5 = 'efficientnet-b5'\n",
    "effnet_b6 = 'efficientnet-b6'\n",
    "effnet_b7 = 'efficientnet-b7'"
   ]
  },
  {
   "cell_type": "code",
   "execution_count": 6,
   "metadata": {},
   "outputs": [],
   "source": [
    "#export\n",
    "def get_mish_model(data, model_name, pre_trained=True):\n",
    "    if pre_trained: \n",
    "        return MEfficientNet.from_pretrained(model_name, data.c)\n",
    "    else:\n",
    "        return MEfficientNet.from_name(model_name, override_params={'num_classes': data.c})"
   ]
  },
  {
   "cell_type": "markdown",
   "metadata": {},
   "source": [
    "## Testing Model: EfficientNet; Pretrained"
   ]
  },
  {
   "cell_type": "code",
   "execution_count": 9,
   "metadata": {},
   "outputs": [
    {
     "name": "stdout",
     "output_type": "stream",
     "text": [
      "Loaded pretrained weights for efficientnet-b3\n"
     ]
    }
   ],
   "source": [
    "# hyper parameters\n",
    "lr = 4e-3\n",
    "alpha = 0.99\n",
    "mom = 0.95\n",
    "eps = 1e-6\n",
    "epochs = 5\n",
    "mixup = 0.3\n",
    "sa = 1\n",
    "sym = 0\n",
    "ann_start = 0.72\n",
    "wd = 1e-2\n",
    "\n",
    "# b4 model: around the same parameters as mxresnet34\n",
    "m = get_mish_model(data, effnet_b3, pre_trained=True)\n",
    "\n",
    "# opt, loss\n",
    "opt_func = partial(Ranger, betas=(mom, alpha), eps=eps)\n",
    "loss_func = LabelSmoothingCrossEntropy()\n",
    "\n",
    "# learner\n",
    "learn = (Learner(data,\n",
    "                 m, \n",
    "                 wd=wd,\n",
    "                 opt_func=opt_func,\n",
    "                 metrics=[accuracy, top_k_accuracy],\n",
    "                 bn_wd=False, true_wd=True,\n",
    "                 loss_func=loss_func)\n",
    "        )\n",
    "\n",
    "# adding mixup\n",
    "if mixup > 0.:\n",
    "    learn.mixup(alpha=alpha);\n",
    "# to mixed precision\n",
    "learn.to_fp16();"
   ]
  },
  {
   "cell_type": "code",
   "execution_count": 10,
   "metadata": {},
   "outputs": [
    {
     "data": {
      "text/html": [],
      "text/plain": [
       "<IPython.core.display.HTML object>"
      ]
     },
     "metadata": {},
     "output_type": "display_data"
    },
    {
     "name": "stdout",
     "output_type": "stream",
     "text": [
      "set state called\n",
      "LR Finder is complete, type {learner_name}.recorder.plot() to see the graph.\n"
     ]
    },
    {
     "data": {
      "image/png": "[encoded data removed]",
      "text/plain": [
       "<Figure size 432x288 with 1 Axes>"
      ]
     },
     "metadata": {
      "needs_background": "light"
     },
     "output_type": "display_data"
    }
   ],
   "source": [
    "# finding optimal learning rate\n",
    "learn.lr_find(wd=wd)\n",
    "learn.recorder.plot()"
   ]
  },
  {
   "cell_type": "code",
   "execution_count": 11,
   "metadata": {},
   "outputs": [
    {
     "data": {
      "text/html": [
       "<table border=\"1\" class=\"dataframe\">\n",
       "  <thead>\n",
       "    <tr style=\"text-align: left;\">\n",
       "      <th>epoch</th>\n",
       "      <th>train_loss</th>\n",
       "      <th>valid_loss</th>\n",
       "      <th>accuracy</th>\n",
       "      <th>top_k_accuracy</th>\n",
       "      <th>time</th>\n",
       "    </tr>\n",
       "  </thead>\n",
       "  <tbody>\n",
       "    <tr>\n",
       "      <td>0</td>\n",
       "      <td>1.207631</td>\n",
       "      <td>1.748782</td>\n",
       "      <td>0.668332</td>\n",
       "      <td>0.942058</td>\n",
       "      <td>07:16</td>\n",
       "    </tr>\n",
       "    <tr>\n",
       "      <td>1</td>\n",
       "      <td>1.181949</td>\n",
       "      <td>1.201892</td>\n",
       "      <td>0.680320</td>\n",
       "      <td>0.935065</td>\n",
       "      <td>07:20</td>\n",
       "    </tr>\n",
       "    <tr>\n",
       "      <td>2</td>\n",
       "      <td>1.190396</td>\n",
       "      <td>1.375849</td>\n",
       "      <td>0.674326</td>\n",
       "      <td>0.958042</td>\n",
       "      <td>07:32</td>\n",
       "    </tr>\n",
       "    <tr>\n",
       "      <td>3</td>\n",
       "      <td>1.110794</td>\n",
       "      <td>1.030487</td>\n",
       "      <td>0.736264</td>\n",
       "      <td>0.990010</td>\n",
       "      <td>07:47</td>\n",
       "    </tr>\n",
       "    <tr>\n",
       "      <td>4</td>\n",
       "      <td>1.087692</td>\n",
       "      <td>0.961589</td>\n",
       "      <td>0.757243</td>\n",
       "      <td>0.992008</td>\n",
       "      <td>07:26</td>\n",
       "    </tr>\n",
       "  </tbody>\n",
       "</table>"
      ],
      "text/plain": [
       "<IPython.core.display.HTML object>"
      ]
     },
     "metadata": {},
     "output_type": "display_data"
    }
   ],
   "source": [
    "lr = 1e-2\n",
    "fit_with_annealing(learn, epochs, lr, ann_start)"
   ]
  },
  {
   "cell_type": "markdown",
   "metadata": {},
   "source": [
    "## Testing Model: Efficientnet Non-Pretrained"
   ]
  },
  {
   "cell_type": "code",
   "execution_count": 7,
   "metadata": {},
   "outputs": [],
   "source": [
    "# hyper parameters\n",
    "lr = 4e-3\n",
    "alpha = 0.99\n",
    "mom = 0.95\n",
    "eps = 1e-6\n",
    "epochs = 5\n",
    "mixup = 0.3\n",
    "sa = 1\n",
    "sym = 0\n",
    "ann_start = 0.72\n",
    "wd = 1e-2\n",
    "\n",
    "# b4 model: around the same parameters as mxresnet34\n",
    "m = get_mish_model(data, effnet_b3, pre_trained=False)\n",
    "\n",
    "# opt, loss\n",
    "opt_func = partial(Ranger, betas=(mom, alpha), eps=eps)\n",
    "loss_func = LabelSmoothingCrossEntropy()\n",
    "\n",
    "# learner\n",
    "learn = (Learner(data,\n",
    "                 m, \n",
    "                 wd=wd,\n",
    "                 opt_func=opt_func,\n",
    "                 metrics=[accuracy, top_k_accuracy],\n",
    "                 bn_wd=False, true_wd=True,\n",
    "                 loss_func=loss_func)\n",
    "        )\n",
    "\n",
    "# adding mixup\n",
    "if mixup > 0.:\n",
    "    learn.mixup(alpha=alpha);\n",
    "# to mixed precision\n",
    "learn.to_fp16();"
   ]
  },
  {
   "cell_type": "code",
   "execution_count": 8,
   "metadata": {},
   "outputs": [
    {
     "data": {
      "text/html": [],
      "text/plain": [
       "<IPython.core.display.HTML object>"
      ]
     },
     "metadata": {},
     "output_type": "display_data"
    },
    {
     "name": "stdout",
     "output_type": "stream",
     "text": [
      "set state called\n",
      "LR Finder is complete, type {learner_name}.recorder.plot() to see the graph.\n"
     ]
    },
    {
     "data": {
      "image/png": "[encoded data removed]",
      "text/plain": [
       "<Figure size 432x288 with 1 Axes>"
      ]
     },
     "metadata": {
      "needs_background": "light"
     },
     "output_type": "display_data"
    }
   ],
   "source": [
    "# finding optimal learning rate\n",
    "learn.lr_find(wd=wd)\n",
    "learn.recorder.plot()"
   ]
  },
  {
   "cell_type": "code",
   "execution_count": 9,
   "metadata": {},
   "outputs": [
    {
     "data": {
      "text/html": [
       "<table border=\"1\" class=\"dataframe\">\n",
       "  <thead>\n",
       "    <tr style=\"text-align: left;\">\n",
       "      <th>epoch</th>\n",
       "      <th>train_loss</th>\n",
       "      <th>valid_loss</th>\n",
       "      <th>accuracy</th>\n",
       "      <th>top_k_accuracy</th>\n",
       "      <th>time</th>\n",
       "    </tr>\n",
       "  </thead>\n",
       "  <tbody>\n",
       "    <tr>\n",
       "      <td>0</td>\n",
       "      <td>1.213176</td>\n",
       "      <td>1.155151</td>\n",
       "      <td>0.690310</td>\n",
       "      <td>0.963037</td>\n",
       "      <td>07:26</td>\n",
       "    </tr>\n",
       "    <tr>\n",
       "      <td>1</td>\n",
       "      <td>1.182982</td>\n",
       "      <td>1.119087</td>\n",
       "      <td>0.700300</td>\n",
       "      <td>0.980020</td>\n",
       "      <td>07:36</td>\n",
       "    </tr>\n",
       "    <tr>\n",
       "      <td>2</td>\n",
       "      <td>1.154574</td>\n",
       "      <td>1.087729</td>\n",
       "      <td>0.678322</td>\n",
       "      <td>0.986014</td>\n",
       "      <td>07:37</td>\n",
       "    </tr>\n",
       "    <tr>\n",
       "      <td>3</td>\n",
       "      <td>1.122843</td>\n",
       "      <td>1.117936</td>\n",
       "      <td>0.680320</td>\n",
       "      <td>0.976024</td>\n",
       "      <td>07:52</td>\n",
       "    </tr>\n",
       "    <tr>\n",
       "      <td>4</td>\n",
       "      <td>1.148751</td>\n",
       "      <td>1.008329</td>\n",
       "      <td>0.714286</td>\n",
       "      <td>0.993007</td>\n",
       "      <td>07:43</td>\n",
       "    </tr>\n",
       "  </tbody>\n",
       "</table>"
      ],
      "text/plain": [
       "<IPython.core.display.HTML object>"
      ]
     },
     "metadata": {},
     "output_type": "display_data"
    }
   ],
   "source": [
    "lr = 1e-3\n",
    "fit_with_annealing(learn, epochs, lr, ann_start)"
   ]
  },
  {
   "cell_type": "code",
   "execution_count": null,
   "metadata": {},
   "outputs": [],
   "source": []
  },
  {
   "cell_type": "code",
   "execution_count": null,
   "metadata": {},
   "outputs": [],
   "source": []
  },
  {
   "cell_type": "code",
   "execution_count": null,
   "metadata": {},
   "outputs": [],
   "source": []
  },
  {
   "cell_type": "code",
   "execution_count": null,
   "metadata": {},
   "outputs": [],
   "source": []
  },
  {
   "cell_type": "code",
   "execution_count": null,
   "metadata": {},
   "outputs": [],
   "source": []
  },
  {
   "cell_type": "code",
   "execution_count": null,
   "metadata": {},
   "outputs": [],
   "source": []
  },
  {
   "cell_type": "code",
   "execution_count": null,
   "metadata": {},
   "outputs": [],
   "source": []
  },
  {
   "cell_type": "code",
   "execution_count": null,
   "metadata": {},
   "outputs": [],
   "source": []
  },
  {
   "cell_type": "code",
   "execution_count": null,
   "metadata": {},
   "outputs": [],
   "source": []
  },
  {
   "cell_type": "code",
   "execution_count": null,
   "metadata": {},
   "outputs": [],
   "source": []
  },
  {
   "cell_type": "code",
   "execution_count": null,
   "metadata": {},
   "outputs": [],
   "source": []
  },
  {
   "cell_type": "code",
   "execution_count": null,
   "metadata": {},
   "outputs": [],
   "source": []
  },
  {
   "cell_type": "code",
   "execution_count": null,
   "metadata": {},
   "outputs": [],
   "source": []
  },
  {
   "cell_type": "code",
   "execution_count": null,
   "metadata": {},
   "outputs": [],
   "source": []
  }
 ],
 "metadata": {
  "kernelspec": {
   "display_name": "Python 3",
   "language": "python",
   "name": "python3"
  },
  "language_info": {
   "codemirror_mode": {
    "name": "ipython",
    "version": 3
   },
   "file_extension": ".py",
   "mimetype": "text/x-python",
   "name": "python",
   "nbconvert_exporter": "python",
   "pygments_lexer": "ipython3",
   "version": "3.7.3"
  }
 },
 "nbformat": 4,
 "nbformat_minor": 2
}
